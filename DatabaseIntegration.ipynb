{
 "cells": [
  {
   "cell_type": "code",
   "execution_count": 27,
   "metadata": {},
   "outputs": [],
   "source": [
    "from neo4j import GraphDatabase\n",
    "from neo4j import Query\n",
    "import pandas as pd\n",
    "import numpy as np"
   ]
  },
  {
   "cell_type": "code",
   "execution_count": null,
   "metadata": {},
   "outputs": [],
   "source": []
  },
  {
   "cell_type": "code",
   "execution_count": 4,
   "metadata": {},
   "outputs": [],
   "source": [
    "file_name = \"LOTR\""
   ]
  },
  {
   "cell_type": "code",
   "execution_count": 6,
   "metadata": {},
   "outputs": [],
   "source": [
    "triples = pd.read_csv(\"./\"+file_name + \"_TRIPLES.csv\")\n",
    "entities = pd.read_csv(\"./\"+file_name + \"_NERentities.csv\")"
   ]
  },
  {
   "cell_type": "code",
   "execution_count": 7,
   "metadata": {},
   "outputs": [],
   "source": [
    "driver = GraphDatabase.driver(\"bolt://localhost:7687\", auth=(\"neo4j\", \"1234\"))"
   ]
  },
  {
   "cell_type": "code",
   "execution_count": 31,
   "metadata": {},
   "outputs": [],
   "source": [
    "\n",
    "with driver.session() as session:\n",
    "  res = session.run(Query(\"CREATE DATABASE $name IF NOT EXISTS\"), name=file_name)\n",
    "  res = session.run(Query(\"START DATABASE $name\"), name=file_name)\n"
   ]
  },
  {
   "cell_type": "code",
   "execution_count": 50,
   "metadata": {},
   "outputs": [],
   "source": [
    "def create_entity(tx, entityName, entityType):\n",
    "  result = tx.run(\"MERGE (a:%s { name: '%s' })\" % (entityType, entityName))\n"
   ]
  },
  {
   "cell_type": "code",
   "execution_count": 63,
   "metadata": {},
   "outputs": [],
   "source": [
    "def crateRelation(tx, entity1,type1, entity2,type2, relation):\n",
    "  result = tx.run(\"MATCH (a:%s), (b:%s) WHERE a.name = '%s' AND b.name = '%s' MERGE (a)-[r:%s]->(b)\" %(type1, type2,entity1, entity2, relation) )"
   ]
  },
  {
   "cell_type": "code",
   "execution_count": 66,
   "metadata": {},
   "outputs": [
    {
     "name": "stdout",
     "output_type": "stream",
     "text": [
      "Bilbo farewell said []\n",
      "Company farewell said []\n"
     ]
    }
   ],
   "source": [
    "for index, row  in triples.iterrows():\n",
    "  entity1 = row[1]\n",
    "  entity2 = row[3]\n",
    "  relation = row[2]\n",
    "  relation = relation.strip()\n",
    "  relation = relation.replace(\" \", \"_\")\n",
    "  splitted_1 =  entity1.split(\" \")\n",
    "  splitted_2 = entity2.split(\" \")\n",
    "  entity1_types = entities[np.isin(entities[\"entity\"],splitted_1)][\"type\"].values\n",
    "  entity2_types = entities[np.isin(\n",
    "      entities[\"entity\"], splitted_2)][\"type\"].values\n",
    "  first_type = entity1_types[0] if len(entity1_types) > 0 else \"Other\"\n",
    "  if entity2 == \"farewell\":\n",
    "    print(entity1, entity2, relation, entity2_types)\n",
    "  second_type = entity2_types[0] if len(entity2_types) > 0 else \"Other\"\n",
    "  with driver.session() as session:\n",
    "    session.write_transaction(create_entity, entity1, first_type)\n",
    "    session.write_transaction(create_entity, entity2, second_type)\n",
    "    session.write_transaction(crateRelation, entity1, first_type, entity2, second_type, relation)\n",
    "    # res = session.run(\n",
    "    #     Query(\"MERGE (a:$entity_1_type {name : $entity1_name})\"), entity_1_type=first_type, entity1_name=entity1)\n",
    "    # res = session.run(\n",
    "    #     Query(\"MERGE (b: $entity_2_type {name : $entity2_name})\"), entity2_name=entity2, entity_2_type=second_type)\n",
    "    # res = session.run(Query(\"MATCH (a:$entity_1_type  {name : $entity1_name}), (b:$entity_2_type {name : $entity2_name}) MERGE (a)-[$relation:RELATION]->(b)\"),\n",
    "    #                   entity1_name=entity1, entity_1_type=first_type, entity2_name=entity2, entity_2_type=second_type, relation=relation)\n",
    " \n"
   ]
  }
 ],
 "metadata": {
  "kernelspec": {
   "display_name": "Python 3.10.1 64-bit",
   "language": "python",
   "name": "python3"
  },
  "language_info": {
   "codemirror_mode": {
    "name": "ipython",
    "version": 3
   },
   "file_extension": ".py",
   "mimetype": "text/x-python",
   "name": "python",
   "nbconvert_exporter": "python",
   "pygments_lexer": "ipython3",
   "version": "3.10.1"
  },
  "orig_nbformat": 4,
  "vscode": {
   "interpreter": {
    "hash": "e850eec08e9669c52e782ee28b71a07544c9e38f5af88e96f29f06e82864309f"
   }
  }
 },
 "nbformat": 4,
 "nbformat_minor": 2
}
