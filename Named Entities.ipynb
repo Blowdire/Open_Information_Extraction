{
 "cells": [
  {
   "cell_type": "code",
   "execution_count": 1,
   "metadata": {},
   "outputs": [],
   "source": [
    "import spacy\n",
    "import coreferee\n",
    "from spacy.matcher import Matcher\n",
    "import pandas as pd\n"
   ]
  },
  {
   "cell_type": "code",
   "execution_count": 19,
   "metadata": {},
   "outputs": [],
   "source": [
    "file_name = \"LOTR_NER\""
   ]
  },
  {
   "cell_type": "code",
   "execution_count": 2,
   "metadata": {},
   "outputs": [],
   "source": [
    "text = \"\"\n",
    "with open(\"./\"+file_name+\".txt\", encoding=\"utf8\") as f:\n",
    "  try:\n",
    "    text = f.readlines()\n",
    "  except Exception as e:\n",
    "    print(e)\n"
   ]
  },
  {
   "cell_type": "code",
   "execution_count": 3,
   "metadata": {},
   "outputs": [],
   "source": [
    "import re\n",
    "string_text = \"\"\n",
    "for line in text:\n",
    "  string_text += line + \"\\n\"\n",
    "string_text = re.sub('[\\n]+', '\\n', string_text)\n"
   ]
  },
  {
   "cell_type": "code",
   "execution_count": 4,
   "metadata": {},
   "outputs": [],
   "source": [
    "splitted_text = string_text.split(\" \")"
   ]
  },
  {
   "cell_type": "code",
   "execution_count": 15,
   "metadata": {},
   "outputs": [
    {
     "name": "stdout",
     "output_type": "stream",
     "text": [
      "not enough values to unpack (expected 2, got 1)\n"
     ]
    }
   ],
   "source": [
    "entities = []\n",
    "for word in splitted_text:\n",
    "  if  \"/O\" not in word:\n",
    "    try:\n",
    "      entity_name, entity_type = word.split(\"/\")\n",
    "      entity_name = entity_name.replace(\"\\n\", \"\")\n",
    "      entity_type = entity_type.replace(\"\\n\", \"\")\n",
    "      if entity_name+\"#\"+entity_type not in entities and len(entity_name) >2:\n",
    "        entities.append(entity_name+\"#\"+entity_type)\n",
    "    except Exception as e:\n",
    "      print(e)"
   ]
  },
  {
   "cell_type": "code",
   "execution_count": 16,
   "metadata": {},
   "outputs": [
    {
     "data": {
      "text/plain": [
       "['Bilbo#PERSON',\n",
       " 'Baggins#PERSON',\n",
       " 'Hobbiton#LOCATION',\n",
       " 'Shire#LOCATION',\n",
       " 'Sackville#LOCATION',\n",
       " 'Frodo#PERSON',\n",
       " 'Bagginses#LOCATION',\n",
       " 'Bagginses#PERSON',\n",
       " 'Bywater#LOCATION',\n",
       " 'Ham#PERSON']"
      ]
     },
     "execution_count": 16,
     "metadata": {},
     "output_type": "execute_result"
    }
   ],
   "source": [
    "entities[:10]"
   ]
  },
  {
   "cell_type": "code",
   "execution_count": 17,
   "metadata": {},
   "outputs": [],
   "source": [
    "data = pd.DataFrame(columns=[\"entity\", \"type\"])"
   ]
  },
  {
   "cell_type": "code",
   "execution_count": null,
   "metadata": {},
   "outputs": [],
   "source": [
    "for item in entities:\n",
    "  entity, enity_type = item.split(\"#\")\n",
    "  data.loc[len(data)] = [entity, enity_type]\n"
   ]
  },
  {
   "cell_type": "code",
   "execution_count": 20,
   "metadata": {},
   "outputs": [],
   "source": [
    "data.to_csv(\"./\"+file_name+\"entities.csv\")"
   ]
  }
 ],
 "metadata": {
  "kernelspec": {
   "display_name": "Python 3.10.1 64-bit",
   "language": "python",
   "name": "python3"
  },
  "language_info": {
   "codemirror_mode": {
    "name": "ipython",
    "version": 3
   },
   "file_extension": ".py",
   "mimetype": "text/x-python",
   "name": "python",
   "nbconvert_exporter": "python",
   "pygments_lexer": "ipython3",
   "version": "3.10.1"
  },
  "orig_nbformat": 4,
  "vscode": {
   "interpreter": {
    "hash": "e850eec08e9669c52e782ee28b71a07544c9e38f5af88e96f29f06e82864309f"
   }
  }
 },
 "nbformat": 4,
 "nbformat_minor": 2
}
