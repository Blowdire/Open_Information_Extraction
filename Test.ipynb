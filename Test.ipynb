{
 "cells": [
  {
   "cell_type": "code",
   "execution_count": 1,
   "metadata": {},
   "outputs": [],
   "source": [
    "import spacy\n",
    "from spacy.matcher import Matcher\n"
   ]
  },
  {
   "cell_type": "code",
   "execution_count": 2,
   "metadata": {},
   "outputs": [],
   "source": [
    "nlp = spacy.load(\"en_core_web_lg\")\n",
    "nlp.max_length = 1200000\n"
   ]
  },
  {
   "cell_type": "code",
   "execution_count": 7,
   "metadata": {},
   "outputs": [],
   "source": [
    "text = \"\"\n",
    "with open(\"./Dune_NER.txt\", encoding=\"utf8\") as f:\n",
    "  try:\n",
    "    text = f.readlines()\n",
    "  except Exception as e:\n",
    "    print(e)\n",
    "string_text = \"\"\n",
    "for line in text:\n",
    "  string_text += line +\"\\n\""
   ]
  },
  {
   "cell_type": "code",
   "execution_count": 9,
   "metadata": {},
   "outputs": [],
   "source": [
    "string_text = string_text.replace(\"/O\",\"\")\n",
    "string_text = string_text.replace(\"\\n\\n\", \"\\n\")\n"
   ]
  },
  {
   "cell_type": "code",
   "execution_count": 11,
   "metadata": {},
   "outputs": [
    {
     "data": {
      "text/plain": [
       "'\\ufeffA beginning is the time for taking the most delicate care that the balances are correct . \\nThis every sister of the Bene Gesserit knows . \\nTo begin your study of the life of Muad/PERSON ‘/PERSON Dib/PERSON , then , take care that you first place him in his time : born in the 57th year of the Padishah Emperor , Shaddam IV . \\nAnd take the most special care that you locate Muad/PERSON ’/PERSON Dib/PERSON in his place : the planet Arrakis . \\nDo not be deceived by the fact that he was bom on Caladan/PERSON and lived his first fifteen years there . \\nArrakis , the planet known as Dune , is forever his place . \\n- from “ Manual of Muad ’ Dib ” by the Princess Irulan/PERSON IN THE week before their departure to Arrakis , when all the final scurrying about had reached a nearly unbearable frenzy , an old crone came to visit the mother of the boy , Paul/PERSON . \\nIt was a warm night at Castle Caladan , and the ancient pile of stone that had served the Atreides family as home for twenty - six gener'"
      ]
     },
     "execution_count": 11,
     "metadata": {},
     "output_type": "execute_result"
    }
   ],
   "source": [
    "string_text[:1000]"
   ]
  },
  {
   "cell_type": "code",
   "execution_count": 12,
   "metadata": {},
   "outputs": [],
   "source": [
    "sentences = string_text.split(\"\\n\")"
   ]
  },
  {
   "cell_type": "code",
   "execution_count": 13,
   "metadata": {},
   "outputs": [
    {
     "data": {
      "text/plain": [
       "['\\ufeffA beginning is the time for taking the most delicate care that the balances are correct . ',\n",
       " 'This every sister of the Bene Gesserit knows . ',\n",
       " 'To begin your study of the life of Muad/PERSON ‘/PERSON Dib/PERSON , then , take care that you first place him in his time : born in the 57th year of the Padishah Emperor , Shaddam IV . ',\n",
       " 'And take the most special care that you locate Muad/PERSON ’/PERSON Dib/PERSON in his place : the planet Arrakis . ',\n",
       " 'Do not be deceived by the fact that he was bom on Caladan/PERSON and lived his first fifteen years there . ',\n",
       " 'Arrakis , the planet known as Dune , is forever his place . ',\n",
       " '- from “ Manual of Muad ’ Dib ” by the Princess Irulan/PERSON IN THE week before their departure to Arrakis , when all the final scurrying about had reached a nearly unbearable frenzy , an old crone came to visit the mother of the boy , Paul/PERSON . ',\n",
       " 'It was a warm night at Castle Caladan , and the ancient pile of stone that had served the Atreides family as home for twenty - six generations bore that cooled - sweat feeling it acquired before a change in the weather . ',\n",
       " 'The old woman was let in by the side door down the vaulted passage by Paul/PERSON ’s room and she was allowed a moment to peer in at him where he lay in his bed . ',\n",
       " 'By the half - light of a suspensor lamp , dimmed and hanging near the floor , the awakened boy could see a bulky female shape at his door , standing one step ahead of his mother . ']"
      ]
     },
     "execution_count": 13,
     "metadata": {},
     "output_type": "execute_result"
    }
   ],
   "source": [
    "sentences[:10]"
   ]
  },
  {
   "cell_type": "code",
   "execution_count": 29,
   "metadata": {},
   "outputs": [],
   "source": [
    "import re\n",
    "valid_sentences = []\n",
    "i=0\n",
    "for sentence in sentences:\n",
    "  indices_object = re.finditer(\n",
    "      pattern='\\/PERSON|\\/ORGANIZATION|\\/LOCATION', string=sentence)\n",
    "  \n",
    "  indices = [m.start() for m in indices_object]\n",
    "  if(len(indices) > 1):\n",
    "    valid = False\n",
    "    for i in range(len(indices)-2):\n",
    "      if indices[i+1] - indices[i] > 18:\n",
    "        valid = True\n",
    "        break\n",
    "    if(valid):\n",
    "      valid_sentences.append([sentence, indices])\n",
    "  \n"
   ]
  },
  {
   "cell_type": "code",
   "execution_count": 30,
   "metadata": {},
   "outputs": [
    {
     "data": {
      "text/plain": [
       "[['And the way she called his mother Jessica/PERSON like a common serving wench instead of what she was — a Bene/PERSON Gesserit/PERSON Lady/PERSON , a duke ’s concubine and mother of the ducal heir . ',\n",
       "  [41, 109, 125, 137]],\n",
       " ['Yet , Hawat/PERSON had said , this appearance contained the deadliest peril , for the Duke/PERSON Leto/PERSON was popular among the Great Houses of the Landsraad . ',\n",
       "  [11, 90, 102]],\n",
       " ['Jessica/PERSON crossed to the window , flung wide the draperies , stared across the river orchards toward Mount/LOCATION Syubi/LOCATION . ',\n",
       "  [7, 111, 126]],\n",
       " ['The old woman studied Paul/PERSON in one gestalten flicker : face oval like Jessica/PERSON ’s/PERSON , but strong bones … hair : the Duke ’s black - black but with browline of the maternal grandfather who can not be named , and that thin , disdainful nose ; shape of directly staring green eyes : like the old DukeRGANIZATION , the paternal grandfather who is dead . ',\n",
       "  [26, 83, 93]],\n",
       " ['“ And to think , Baron/PERSON : the Padishah/PERSON Emperor/PERSON believes he ’s given the Duke your spice planet . ',\n",
       "  [22, 44, 59]]]"
      ]
     },
     "execution_count": 30,
     "metadata": {},
     "output_type": "execute_result"
    }
   ],
   "source": [
    "valid_sentences[:5]"
   ]
  }
 ],
 "metadata": {
  "kernelspec": {
   "display_name": "Python 3.10.1 64-bit",
   "language": "python",
   "name": "python3"
  },
  "language_info": {
   "codemirror_mode": {
    "name": "ipython",
    "version": 3
   },
   "file_extension": ".py",
   "mimetype": "text/x-python",
   "name": "python",
   "nbconvert_exporter": "python",
   "pygments_lexer": "ipython3",
   "version": "3.10.1"
  },
  "orig_nbformat": 4,
  "vscode": {
   "interpreter": {
    "hash": "e850eec08e9669c52e782ee28b71a07544c9e38f5af88e96f29f06e82864309f"
   }
  }
 },
 "nbformat": 4,
 "nbformat_minor": 2
}
